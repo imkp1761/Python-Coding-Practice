{
 "cells": [
  {
   "cell_type": "code",
   "execution_count": null,
   "id": "2ec8da90",
   "metadata": {
    "scrolled": true
   },
   "outputs": [],
   "source": [
    "while True:\n",
    "    \n",
    "    num1 = int(input(\"Enter the first number:\"))\n",
    "    num2 = int(input(\"Enter the second number:\"))\n",
    "    op = input(\"Enter the operator[/,//,*,+,-,%,**]:\")\n",
    "    \n",
    "    if(op == '/'):\n",
    "        print('Division =' ,num1/num2)\n",
    "    elif(op == '//'):\n",
    "        print('Division without decimal =' ,num1//num2)\n",
    "    elif(op == '*'):\n",
    "        print('Multiplication =' ,num1*num2)\n",
    "    elif(op == '+'):\n",
    "        print('Addition =' ,num1+num2)    \n",
    "    elif(op == '-'):\n",
    "        print('Substraction =' ,num1-num2)\n",
    "    elif(op == '%'):\n",
    "        print('Modulo =' ,num1%num2)\n",
    "    elif(op == '**'):\n",
    "        print('Power =' ,num1**num2)    \n",
    "    else:\n",
    "        print('Check your input & enter valid operator')\n",
    "    \n",
    "    print()\n",
    "    print('Do you want to calculate again?\\nPress y for Yes and Press n for NO')\n",
    "    ch = input()\n",
    "    \n",
    "    if(ch == 'n'):\n",
    "        print('Thanks for using this calculator')\n",
    "        break"
   ]
  }
 ],
 "metadata": {
  "kernelspec": {
   "display_name": "Python 3 (ipykernel)",
   "language": "python",
   "name": "python3"
  },
  "language_info": {
   "codemirror_mode": {
    "name": "ipython",
    "version": 3
   },
   "file_extension": ".py",
   "mimetype": "text/x-python",
   "name": "python",
   "nbconvert_exporter": "python",
   "pygments_lexer": "ipython3",
   "version": "3.9.12"
  }
 },
 "nbformat": 4,
 "nbformat_minor": 5
}
