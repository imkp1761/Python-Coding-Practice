{
 "cells": [
  {
   "cell_type": "code",
   "execution_count": null,
   "id": "8acfdd47",
   "metadata": {},
   "outputs": [],
   "source": [
    "pos = -1\n",
    "def search(lst,n):\n",
    "    i = 0\n",
    "    \n",
    "    while i<len(lst):\n",
    "        if lst[i] == n:\n",
    "            globals()['pos']=i\n",
    "            return True;\n",
    "        i+=1\n",
    "    return False;\n",
    "\n",
    "size = int(input(\"Enter the size of list: \"))\n",
    "lst = []\n",
    "\n",
    "for i in range(0,size):\n",
    "    ele = int(input())\n",
    "    lst.append(ele)\n",
    "    \n",
    "print('Your list is: ',lst)\n",
    "\n",
    "n = int(input('Enter the number you want to search: '))\n",
    "\n",
    "if search(lst,n):\n",
    "    print('Found at ',pos+1)\n",
    "else:\n",
    "    print('Not Found')"
   ]
  }
 ],
 "metadata": {
  "kernelspec": {
   "display_name": "Python 3 (ipykernel)",
   "language": "python",
   "name": "python3"
  },
  "language_info": {
   "codemirror_mode": {
    "name": "ipython",
    "version": 3
   },
   "file_extension": ".py",
   "mimetype": "text/x-python",
   "name": "python",
   "nbconvert_exporter": "python",
   "pygments_lexer": "ipython3",
   "version": "3.9.12"
  }
 },
 "nbformat": 4,
 "nbformat_minor": 5
}
