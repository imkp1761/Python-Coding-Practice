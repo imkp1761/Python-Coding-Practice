{
 "cells": [
  {
   "cell_type": "code",
   "execution_count": null,
   "id": "3051ff96",
   "metadata": {},
   "outputs": [],
   "source": [
    "pos = -1\n",
    "def search(lst,n):\n",
    "    \n",
    "    l = 0\n",
    "    u = len(lst)-1\n",
    " \n",
    "    while l<=u:\n",
    "        m = (l+u)//2\n",
    "        \n",
    "        if lst[m] == n:\n",
    "            globals()['pos']=m\n",
    "            return True\n",
    "        else:\n",
    "            if lst[m]<n:\n",
    "                l = m\n",
    "            else:\n",
    "                u = mid\n",
    "\n",
    "size = int(input('Enter the size of the list: '))\n",
    "print('Enter the number in sorted manner: ')\n",
    "\n",
    "lst=[]\n",
    "for i in range(size):\n",
    "    lst.append(int(input()))\n",
    "    \n",
    "print('Your List is: ',lst)\n",
    "\n",
    "n = int(input('Enter the number you want to search: '))\n",
    "\n",
    "if search(lst,n):\n",
    "    print('Found at ',pos+1)\n",
    "else:\n",
    "    print('Not Found')"
   ]
  }
 ],
 "metadata": {
  "kernelspec": {
   "display_name": "Python 3 (ipykernel)",
   "language": "python",
   "name": "python3"
  },
  "language_info": {
   "codemirror_mode": {
    "name": "ipython",
    "version": 3
   },
   "file_extension": ".py",
   "mimetype": "text/x-python",
   "name": "python",
   "nbconvert_exporter": "python",
   "pygments_lexer": "ipython3",
   "version": "3.9.12"
  }
 },
 "nbformat": 4,
 "nbformat_minor": 5
}
